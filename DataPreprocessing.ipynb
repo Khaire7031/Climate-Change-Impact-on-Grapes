{
 "cells": [
  {
   "cell_type": "code",
   "execution_count": 2,
   "id": "424fa179-6421-4a61-8a0c-0ac20129ec91",
   "metadata": {},
   "outputs": [
    {
     "name": "stdout",
     "output_type": "stream",
     "text": [
      "Data Preprocessing\n"
     ]
    }
   ],
   "source": [
    "print(\"Data Preprocessing\")"
   ]
  },
  {
   "cell_type": "code",
   "execution_count": null,
   "id": "022bae88-fe75-4984-b714-db6c71505b10",
   "metadata": {},
   "outputs": [],
   "source": [
    "print(\"Sanket\")"
   ]
  }
 ],
 "metadata": {
  "kernelspec": {
   "display_name": "Python 3 (ipykernel)",
   "language": "python",
   "name": "python3"
  },
  "language_info": {
   "codemirror_mode": {
    "name": "ipython",
    "version": 3
   },
   "file_extension": ".py",
   "mimetype": "text/x-python",
   "name": "python",
   "nbconvert_exporter": "python",
   "pygments_lexer": "ipython3",
   "version": "3.10.2"
  }
 },
 "nbformat": 4,
 "nbformat_minor": 5
}
